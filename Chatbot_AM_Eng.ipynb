{
 "cells": [
  {
   "cell_type": "code",
   "execution_count": 3,
   "id": "a232f429-7b33-4990-bc90-a9dfd95635e5",
   "metadata": {},
   "outputs": [
    {
     "name": "stdout",
     "output_type": "stream",
     "text": [
      "✅ FAISS index already exists.\n"
     ]
    }
   ],
   "source": [
    "import os\n",
    "from PIL import Image\n",
    "import pytesseract\n",
    "from langchain.document_loaders import PyPDFLoader, UnstructuredWordDocumentLoader\n",
    "from langchain.text_splitter import RecursiveCharacterTextSplitter\n",
    "from langchain.vectorstores import FAISS\n",
    "from langchain.embeddings import HuggingFaceEmbeddings\n",
    "from langchain.schema import Document\n",
    "\n",
    "# ---- Constants ----\n",
    "DOCS_DIR = \"Documents\"\n",
    "FAISS_DB_PATH = \"faiss_faqs_db1\"\n",
    "\n",
    "# ---- Embedding Model (Supports Amharic & English) ----\n",
    "embedding_model = HuggingFaceEmbeddings(\n",
    "    model_name=\"sentence-transformers/paraphrase-multilingual-MiniLM-L12-v2\"\n",
    ")\n",
    "\n",
    "# ---- OCR Image Reader ----\n",
    "def extract_text_from_image(image_path):\n",
    "    try:\n",
    "        image = Image.open(image_path)\n",
    "        text = pytesseract.image_to_string(image)\n",
    "        return Document(page_content=text, metadata={\"source\": image_path})\n",
    "    except Exception as e:\n",
    "        print(f\"❌ Error reading image {image_path}: {e}\")\n",
    "        return None\n",
    "\n",
    "# ---- Load and Process Two Files ----\n",
    "def process_documents():\n",
    "    docs = []\n",
    "    supported_extensions = (\".pdf\", \".docx\", \".jpg\", \".jpeg\", \".png\", \".tif\")\n",
    "\n",
    "    files = [f for f in os.listdir(DOCS_DIR) if f.lower().endswith(supported_extensions)]\n",
    "\n",
    "    if len(files) != 2:\n",
    "        return \"⚠️ Please make sure exactly two documents (one English, one Amharic) are in the 'Documents/' folder.\"\n",
    "\n",
    "    for filename in files:\n",
    "        filepath = os.path.join(DOCS_DIR, filename)\n",
    "\n",
    "        if filename.endswith(\".pdf\"):\n",
    "            loader = PyPDFLoader(filepath)\n",
    "            docs.extend(loader.load())\n",
    "\n",
    "        elif filename.endswith(\".docx\"):\n",
    "            loader = UnstructuredWordDocumentLoader(filepath)\n",
    "            docs.extend(loader.load())\n",
    "\n",
    "        elif filename.endswith((\".png\", \".jpg\", \".jpeg\", \".tif\")):\n",
    "            doc = extract_text_from_image(filepath)\n",
    "            if doc:\n",
    "                docs.append(doc)\n",
    "\n",
    "    if not docs:\n",
    "        return \"❌ No text could be extracted from the documents.\"\n",
    "\n",
    "    # Split text\n",
    "    text_splitter = RecursiveCharacterTextSplitter(chunk_size=500, chunk_overlap=50)\n",
    "    chunks = text_splitter.split_documents(docs)\n",
    "    texts = [chunk.page_content for chunk in chunks]\n",
    "\n",
    "    # Build and save FAISS index\n",
    "    vector_store = FAISS.from_texts(texts, embedding_model)\n",
    "    vector_store.save_local(FAISS_DB_PATH)\n",
    "\n",
    "    return f\"✅ Successfully processed and stored {len(texts)} chunks from two documents.\"\n",
    "\n",
    "# ---- Run ----\n",
    "if not os.path.exists(FAISS_DB_PATH):\n",
    "    print(process_documents())\n",
    "else:\n",
    "    print(\"✅ FAISS index already exists.\")\n"
   ]
  },
  {
   "cell_type": "code",
   "execution_count": null,
   "id": "ef38942d-10ce-4062-bbd8-c2d3d3012f9e",
   "metadata": {},
   "outputs": [],
   "source": []
  }
 ],
 "metadata": {
  "kernelspec": {
   "display_name": "Python 3 (ipykernel)",
   "language": "python",
   "name": "python3"
  },
  "language_info": {
   "codemirror_mode": {
    "name": "ipython",
    "version": 3
   },
   "file_extension": ".py",
   "mimetype": "text/x-python",
   "name": "python",
   "nbconvert_exporter": "python",
   "pygments_lexer": "ipython3",
   "version": "3.12.7"
  }
 },
 "nbformat": 4,
 "nbformat_minor": 5
}
